{
 "cells": [
  {
   "cell_type": "code",
   "execution_count": 3,
   "metadata": {
    "collapsed": true
   },
   "outputs": [],
   "source": [
    "def unpickle(file):\n",
    "    import cPickle\n",
    "    with open(file, 'rb') as fo:\n",
    "        dict = cPickle.load(fo)\n",
    "    return dict\n",
    "import numpy as np\n",
    "import cv2"
   ]
  },
  {
   "cell_type": "code",
   "execution_count": 16,
   "metadata": {},
   "outputs": [
    {
     "name": "stdout",
     "output_type": "stream",
     "text": [
      "batches.meta data_batch_2 data_batch_4 readme.html\r\n",
      "data_batch_1 data_batch_3 data_batch_5 test_batch\r\n"
     ]
    }
   ],
   "source": [
    "!ls ../data/cifar10"
   ]
  },
  {
   "cell_type": "code",
   "execution_count": 10,
   "metadata": {
    "collapsed": true
   },
   "outputs": [],
   "source": [
    "!mkdir ../data/cifar10/imgs/"
   ]
  },
  {
   "cell_type": "code",
   "execution_count": 14,
   "metadata": {
    "collapsed": true
   },
   "outputs": [],
   "source": [
    "unpckl= unpickle('../data/cifar10/data_batch_1')\n",
    "data=unpckl['data']\n",
    "labels=unpckl['labels']\n",
    "label=unpckl['batch_label']\n",
    "filenames=unpckl['filenames']\n",
    "\n",
    "for i in range(10000):\n",
    "    imm=np.array(data[i]).reshape([3,32,32]).transpose(1,2,0)\n",
    "    #plt.imshow(imm)\n",
    "    cv2.imwrite('../data/cifar10/imgs/'+filenames[i], (imm[:,:,::-1]))\n",
    "    \n",
    "f = open('../data/cifar10/devkit/train.txt', 'w')\n",
    "for i in range(10000):\n",
    "    f.write(filenames[i] +  ' ' + str(labels[i]) + '\\n')\n",
    "f.close()\n"
   ]
  },
  {
   "cell_type": "code",
   "execution_count": 13,
   "metadata": {
    "collapsed": true
   },
   "outputs": [],
   "source": [
    "unpckl= unpickle('../data/cifar10/test_batch')\n",
    "data=unpckl['data']\n",
    "labels=unpckl['labels']\n",
    "label=unpckl['batch_label']\n",
    "filenames=unpckl['filenames']\n",
    "\n",
    "for i in xrange(10000):\n",
    "    imm=np.array(data[i]).reshape([3,32,32]).transpose(1,2,0)\n",
    "    #plt.imshow(imm)\n",
    "    cv2.imwrite('../data/cifar10/imgs/'+filenames[i],(imm[:,:,::-1]))\n",
    "    \n",
    "f = open('../data/cifar10/devkit/test.txt', 'w')\n",
    "for i in xrange(10000):\n",
    "    f.write(filenames[i] +  ' ' + str(labels[i]) + '\\n')\n",
    "f.close()"
   ]
  },
  {
   "cell_type": "code",
   "execution_count": 21,
   "metadata": {},
   "outputs": [
    {
     "data": {
      "text/plain": [
       "'camion_s_000148.png 9'"
      ]
     },
     "execution_count": 21,
     "metadata": {},
     "output_type": "execute_result"
    }
   ],
   "source": [
    "i=1\n",
    "filenames[i] + ' ' + str(labels[i])"
   ]
  },
  {
   "cell_type": "code",
   "execution_count": 8,
   "metadata": {},
   "outputs": [
    {
     "name": "stdout",
     "output_type": "stream",
     "text": [
      "21\n"
     ]
    }
   ],
   "source": [
    "\n",
    "cv2.imwrite(\"filename.png\", np.zeros((10,10)))"
   ]
  },
  {
   "cell_type": "code",
   "execution_count": null,
   "metadata": {
    "collapsed": true
   },
   "outputs": [],
   "source": [
    "!mkdir ../data/celeba/devkit\n",
    "\n",
    "f = open('../data/celeba/devkit/train.txt', 'w')\n",
    "for i in range(10000):\n",
    "    f.write(filenames[i] +  ' ' + str(labels[i]) + '\\n')\n",
    "f.close()\n",
    "\n",
    "f = open('../data/celeba/devkit/train.txt', 'w')\n",
    "for i in range(10000):\n",
    "    f.write(filenames[i] +  ' ' + str(labels[i]) + '\\n')\n",
    "f.close()\n"
   ]
  },
  {
   "cell_type": "code",
   "execution_count": 5,
   "metadata": {
    "collapsed": true
   },
   "outputs": [],
   "source": [
    "import cv2\n",
    "import numpy as np\n",
    "import matplotlib.pyplot as plt\n",
    "%matplotlib inline"
   ]
  },
  {
   "cell_type": "code",
   "execution_count": 12,
   "metadata": {},
   "outputs": [
    {
     "data": {
      "text/plain": [
       "['data', 'labels', 'batch_label', 'filenames']"
      ]
     },
     "execution_count": 12,
     "metadata": {},
     "output_type": "execute_result"
    }
   ],
   "source": [
    "unpickle('devkit/data_batch_1').keys()"
   ]
  }
 ],
 "metadata": {
  "kernelspec": {
   "display_name": "Python 2",
   "language": "python",
   "name": "py2"
  },
  "language_info": {
   "codemirror_mode": {
    "name": "ipython",
    "version": 2
   },
   "file_extension": ".py",
   "mimetype": "text/x-python",
   "name": "python",
   "nbconvert_exporter": "python",
   "pygments_lexer": "ipython2",
   "version": "2.7.14"
  }
 },
 "nbformat": 4,
 "nbformat_minor": 2
}
